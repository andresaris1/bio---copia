{
 "cells": [
  {
   "cell_type": "code",
   "execution_count": 122,
   "id": "5c3319fa",
   "metadata": {},
   "outputs": [],
   "source": [
    "import os\n",
    "import pandas as pd\n",
    "import numpy as np\n",
    "import joblib\n",
    "from tensorflow import keras\n",
    "from tensorflow.keras import layers\n",
    "import matplotlib.pyplot as plt\n",
    "import seaborn as sns\n",
    "from sklearn.datasets import load_iris\n",
    "from sklearn.model_selection import train_test_split, StratifiedKFold\n",
    "from sklearn.tree import DecisionTreeClassifier\n",
    "from sklearn.metrics import accuracy_score, classification_report, ConfusionMatrixDisplay\n",
    "from sklearn.feature_selection import SelectKBest, f_classif\n",
    "from sklearn.model_selection import GridSearchCV\n",
    "from sklearn.pipeline import Pipeline\n",
    "from sklearn.preprocessing import StandardScaler\n",
    "from sklearn.model_selection import GridSearchCV\n",
    "from sklearn.linear_model import LogisticRegression\n",
    "from sklearn.metrics import roc_auc_score, classification_report, confusion_matrix"
   ]
  },
  {
   "cell_type": "markdown",
   "id": "fc72536f",
   "metadata": {},
   "source": [
    "# Lectura y preprocesamiento"
   ]
  },
  {
   "cell_type": "code",
   "execution_count": 123,
   "id": "54736c91",
   "metadata": {},
   "outputs": [
    {
     "name": "stderr",
     "output_type": "stream",
     "text": [
      "C:\\Users\\User\\AppData\\Local\\Temp\\ipykernel_17256\\3215090333.py:2: DtypeWarning: Columns (19,55) have mixed types. Specify dtype option on import or set low_memory=False.\n",
      "  df_og = pd.read_csv('loan/loan.csv')\n"
     ]
    }
   ],
   "source": [
    "# Carga el dataset\n",
    "df_og = pd.read_csv('loan/loan.csv')\n",
    "\n",
    " # Mapea el target\n",
    "status_map = {\n",
    "     \"Fully Paid\": 0,\n",
    "     \"Charged Off\": 1,\n",
    "     \"Late (31-120 days)\": 1,\n",
    "     \"Default\": 1,\n",
    "     \"Does not meet the credit policy. Status:Fully Paid\": 0,\n",
    "     \"Does not meet the credit policy. Status:Charged Off\": 1\n",
    " }\n",
    "df_og['target'] = df_og['loan_status'].map(status_map)"
   ]
  },
  {
   "cell_type": "code",
   "execution_count": 124,
   "id": "5bafc027",
   "metadata": {},
   "outputs": [],
   "source": [
    "import pandas as pd\n",
    "  # o como sea que obtengas tu DataFrame\n",
    "df = df_og[df_og['target'].notna()].copy()"
   ]
  },
  {
   "cell_type": "code",
   "execution_count": 125,
   "id": "284dea2c",
   "metadata": {},
   "outputs": [
    {
     "data": {
      "text/html": [
       "<div>\n",
       "<style scoped>\n",
       "    .dataframe tbody tr th:only-of-type {\n",
       "        vertical-align: middle;\n",
       "    }\n",
       "\n",
       "    .dataframe tbody tr th {\n",
       "        vertical-align: top;\n",
       "    }\n",
       "\n",
       "    .dataframe thead th {\n",
       "        text-align: right;\n",
       "    }\n",
       "</style>\n",
       "<table border=\"1\" class=\"dataframe\">\n",
       "  <thead>\n",
       "    <tr style=\"text-align: right;\">\n",
       "      <th></th>\n",
       "      <th>id</th>\n",
       "      <th>member_id</th>\n",
       "      <th>loan_amnt</th>\n",
       "      <th>funded_amnt</th>\n",
       "      <th>funded_amnt_inv</th>\n",
       "      <th>term</th>\n",
       "      <th>int_rate</th>\n",
       "      <th>installment</th>\n",
       "      <th>grade</th>\n",
       "      <th>sub_grade</th>\n",
       "      <th>...</th>\n",
       "      <th>il_util</th>\n",
       "      <th>open_rv_12m</th>\n",
       "      <th>open_rv_24m</th>\n",
       "      <th>max_bal_bc</th>\n",
       "      <th>all_util</th>\n",
       "      <th>total_rev_hi_lim</th>\n",
       "      <th>inq_fi</th>\n",
       "      <th>total_cu_tl</th>\n",
       "      <th>inq_last_12m</th>\n",
       "      <th>target</th>\n",
       "    </tr>\n",
       "  </thead>\n",
       "  <tbody>\n",
       "    <tr>\n",
       "      <th>0</th>\n",
       "      <td>1077501</td>\n",
       "      <td>1296599</td>\n",
       "      <td>5000.0</td>\n",
       "      <td>5000.0</td>\n",
       "      <td>4975.0</td>\n",
       "      <td>36 months</td>\n",
       "      <td>10.65</td>\n",
       "      <td>162.87</td>\n",
       "      <td>B</td>\n",
       "      <td>B2</td>\n",
       "      <td>...</td>\n",
       "      <td>NaN</td>\n",
       "      <td>NaN</td>\n",
       "      <td>NaN</td>\n",
       "      <td>NaN</td>\n",
       "      <td>NaN</td>\n",
       "      <td>NaN</td>\n",
       "      <td>NaN</td>\n",
       "      <td>NaN</td>\n",
       "      <td>NaN</td>\n",
       "      <td>0.0</td>\n",
       "    </tr>\n",
       "    <tr>\n",
       "      <th>1</th>\n",
       "      <td>1077430</td>\n",
       "      <td>1314167</td>\n",
       "      <td>2500.0</td>\n",
       "      <td>2500.0</td>\n",
       "      <td>2500.0</td>\n",
       "      <td>60 months</td>\n",
       "      <td>15.27</td>\n",
       "      <td>59.83</td>\n",
       "      <td>C</td>\n",
       "      <td>C4</td>\n",
       "      <td>...</td>\n",
       "      <td>NaN</td>\n",
       "      <td>NaN</td>\n",
       "      <td>NaN</td>\n",
       "      <td>NaN</td>\n",
       "      <td>NaN</td>\n",
       "      <td>NaN</td>\n",
       "      <td>NaN</td>\n",
       "      <td>NaN</td>\n",
       "      <td>NaN</td>\n",
       "      <td>1.0</td>\n",
       "    </tr>\n",
       "    <tr>\n",
       "      <th>2</th>\n",
       "      <td>1077175</td>\n",
       "      <td>1313524</td>\n",
       "      <td>2400.0</td>\n",
       "      <td>2400.0</td>\n",
       "      <td>2400.0</td>\n",
       "      <td>36 months</td>\n",
       "      <td>15.96</td>\n",
       "      <td>84.33</td>\n",
       "      <td>C</td>\n",
       "      <td>C5</td>\n",
       "      <td>...</td>\n",
       "      <td>NaN</td>\n",
       "      <td>NaN</td>\n",
       "      <td>NaN</td>\n",
       "      <td>NaN</td>\n",
       "      <td>NaN</td>\n",
       "      <td>NaN</td>\n",
       "      <td>NaN</td>\n",
       "      <td>NaN</td>\n",
       "      <td>NaN</td>\n",
       "      <td>0.0</td>\n",
       "    </tr>\n",
       "    <tr>\n",
       "      <th>3</th>\n",
       "      <td>1076863</td>\n",
       "      <td>1277178</td>\n",
       "      <td>10000.0</td>\n",
       "      <td>10000.0</td>\n",
       "      <td>10000.0</td>\n",
       "      <td>36 months</td>\n",
       "      <td>13.49</td>\n",
       "      <td>339.31</td>\n",
       "      <td>C</td>\n",
       "      <td>C1</td>\n",
       "      <td>...</td>\n",
       "      <td>NaN</td>\n",
       "      <td>NaN</td>\n",
       "      <td>NaN</td>\n",
       "      <td>NaN</td>\n",
       "      <td>NaN</td>\n",
       "      <td>NaN</td>\n",
       "      <td>NaN</td>\n",
       "      <td>NaN</td>\n",
       "      <td>NaN</td>\n",
       "      <td>0.0</td>\n",
       "    </tr>\n",
       "    <tr>\n",
       "      <th>5</th>\n",
       "      <td>1075269</td>\n",
       "      <td>1311441</td>\n",
       "      <td>5000.0</td>\n",
       "      <td>5000.0</td>\n",
       "      <td>5000.0</td>\n",
       "      <td>36 months</td>\n",
       "      <td>7.90</td>\n",
       "      <td>156.46</td>\n",
       "      <td>A</td>\n",
       "      <td>A4</td>\n",
       "      <td>...</td>\n",
       "      <td>NaN</td>\n",
       "      <td>NaN</td>\n",
       "      <td>NaN</td>\n",
       "      <td>NaN</td>\n",
       "      <td>NaN</td>\n",
       "      <td>NaN</td>\n",
       "      <td>NaN</td>\n",
       "      <td>NaN</td>\n",
       "      <td>NaN</td>\n",
       "      <td>0.0</td>\n",
       "    </tr>\n",
       "  </tbody>\n",
       "</table>\n",
       "<p>5 rows × 75 columns</p>\n",
       "</div>"
      ],
      "text/plain": [
       "        id  member_id  loan_amnt  funded_amnt  funded_amnt_inv        term  \\\n",
       "0  1077501    1296599     5000.0       5000.0           4975.0   36 months   \n",
       "1  1077430    1314167     2500.0       2500.0           2500.0   60 months   \n",
       "2  1077175    1313524     2400.0       2400.0           2400.0   36 months   \n",
       "3  1076863    1277178    10000.0      10000.0          10000.0   36 months   \n",
       "5  1075269    1311441     5000.0       5000.0           5000.0   36 months   \n",
       "\n",
       "   int_rate  installment grade sub_grade  ... il_util open_rv_12m open_rv_24m  \\\n",
       "0     10.65       162.87     B        B2  ...     NaN         NaN         NaN   \n",
       "1     15.27        59.83     C        C4  ...     NaN         NaN         NaN   \n",
       "2     15.96        84.33     C        C5  ...     NaN         NaN         NaN   \n",
       "3     13.49       339.31     C        C1  ...     NaN         NaN         NaN   \n",
       "5      7.90       156.46     A        A4  ...     NaN         NaN         NaN   \n",
       "\n",
       "   max_bal_bc all_util total_rev_hi_lim inq_fi total_cu_tl inq_last_12m target  \n",
       "0         NaN      NaN              NaN    NaN         NaN          NaN    0.0  \n",
       "1         NaN      NaN              NaN    NaN         NaN          NaN    1.0  \n",
       "2         NaN      NaN              NaN    NaN         NaN          NaN    0.0  \n",
       "3         NaN      NaN              NaN    NaN         NaN          NaN    0.0  \n",
       "5         NaN      NaN              NaN    NaN         NaN          NaN    0.0  \n",
       "\n",
       "[5 rows x 75 columns]"
      ]
     },
     "execution_count": 125,
     "metadata": {},
     "output_type": "execute_result"
    }
   ],
   "source": [
    "df.head()"
   ]
  },
  {
   "cell_type": "markdown",
   "id": "4fb0dfaf",
   "metadata": {},
   "source": [
    "## Explora el balance de clases"
   ]
  },
  {
   "cell_type": "code",
   "execution_count": 126,
   "id": "02bfdfa0",
   "metadata": {},
   "outputs": [
    {
     "name": "stdout",
     "output_type": "stream",
     "text": [
      "target\n",
      "0.0    209711\n",
      "1.0     58819\n",
      "Name: count, dtype: int64\n",
      "target\n",
      "0.0    0.780959\n",
      "1.0    0.219041\n",
      "Name: proportion, dtype: float64\n"
     ]
    }
   ],
   "source": [
    "print(df['target'].value_counts())\n",
    "print(df['target'].value_counts(normalize=True))"
   ]
  },
  {
   "cell_type": "markdown",
   "id": "410afc9a",
   "metadata": {},
   "source": [
    "## Preprocesamiento"
   ]
  },
  {
   "cell_type": "code",
   "execution_count": 127,
   "id": "c3f1f4e0",
   "metadata": {},
   "outputs": [],
   "source": [
    "df_varibales_categoricas = df.select_dtypes(include=['object']).astype(\"category\")"
   ]
  },
  {
   "cell_type": "code",
   "execution_count": 128,
   "id": "414191cf",
   "metadata": {},
   "outputs": [
    {
     "name": "stdout",
     "output_type": "stream",
     "text": [
      "emp_title                     14958\n",
      "emp_length                    10721\n",
      "desc                         176559\n",
      "title                            16\n",
      "earliest_cr_line                 29\n",
      "last_pymnt_d                    668\n",
      "next_pymnt_d                 252971\n",
      "last_credit_pull_d               24\n",
      "verification_status_joint    268527\n",
      "dtype: int64\n"
     ]
    }
   ],
   "source": [
    "null_counts = df_varibales_categoricas.isna().sum()\n",
    "print(null_counts[null_counts > 15])"
   ]
  },
  {
   "cell_type": "code",
   "execution_count": 129,
   "id": "b257568d",
   "metadata": {},
   "outputs": [
    {
     "data": {
      "text/plain": [
       "0         Jan-1985\n",
       "1         Apr-1999\n",
       "2         Nov-2001\n",
       "3         Feb-1996\n",
       "5         Nov-2004\n",
       "            ...   \n",
       "887351    Aug-1990\n",
       "887364    Nov-1975\n",
       "887366    Feb-2011\n",
       "887369    Sep-2002\n",
       "887371    Jun-2002\n",
       "Name: earliest_cr_line, Length: 268530, dtype: object"
      ]
     },
     "execution_count": 129,
     "metadata": {},
     "output_type": "execute_result"
    }
   ],
   "source": [
    "df[\"earliest_cr_line\"]"
   ]
  },
  {
   "cell_type": "code",
   "execution_count": 130,
   "id": "7d7a6d15",
   "metadata": {},
   "outputs": [
    {
     "data": {
      "text/plain": [
       "0         Jan-2016\n",
       "1         Sep-2013\n",
       "2         Jan-2016\n",
       "3         Jan-2015\n",
       "5         Sep-2015\n",
       "            ...   \n",
       "887351    Jan-2016\n",
       "887364    Jun-2015\n",
       "887366    Dec-2015\n",
       "887369    Nov-2015\n",
       "887371    Jan-2016\n",
       "Name: last_credit_pull_d, Length: 268530, dtype: object"
      ]
     },
     "execution_count": 130,
     "metadata": {},
     "output_type": "execute_result"
    }
   ],
   "source": [
    "df[\"last_credit_pull_d\"]"
   ]
  },
  {
   "cell_type": "code",
   "execution_count": 131,
   "id": "4b84c1b9",
   "metadata": {},
   "outputs": [
    {
     "data": {
      "text/plain": [
       "0         Jan-2015\n",
       "1         Apr-2013\n",
       "2         Jun-2014\n",
       "3         Jan-2015\n",
       "5         Jan-2015\n",
       "            ...   \n",
       "887351    Aug-2015\n",
       "887364    Jul-2015\n",
       "887366    Dec-2015\n",
       "887369    Jun-2015\n",
       "887371    Aug-2015\n",
       "Name: last_pymnt_d, Length: 268530, dtype: object"
      ]
     },
     "execution_count": 131,
     "metadata": {},
     "output_type": "execute_result"
    }
   ],
   "source": [
    "df[\"last_pymnt_d\"]"
   ]
  },
  {
   "cell_type": "markdown",
   "id": "cf9e987c",
   "metadata": {},
   "source": [
    "se eliminan todas estas columnas puesto que tienen más de 10 mil nulos y las otras 3 no son significativas y agregarian mucha complejidad al ser fechas"
   ]
  },
  {
   "cell_type": "code",
   "execution_count": 132,
   "id": "7904ef57",
   "metadata": {
    "vscode": {
     "languageId": "ruby"
    }
   },
   "outputs": [],
   "source": [
    "# Remove columns with many null values and date columns\n",
    "columns_to_remove = ['earliest_cr_line', 'last_credit_pull_d', 'last_pymnt_d', \"emp_length\", \"next_pymnt_d\", \"verification_status_joint\", \"desc\", \"emp_title\", \"title\"]\n",
    "df = df.drop(columns=columns_to_remove, errors='ignore')"
   ]
  },
  {
   "cell_type": "code",
   "execution_count": 133,
   "id": "02d0c6a8",
   "metadata": {
    "vscode": {
     "languageId": "ruby"
    }
   },
   "outputs": [],
   "source": [
    "df_varibales_categoricas = df.select_dtypes(include=['object']).astype(\"category\")"
   ]
  },
  {
   "cell_type": "code",
   "execution_count": 134,
   "id": "0cbc5e4c",
   "metadata": {
    "vscode": {
     "languageId": "ruby"
    }
   },
   "outputs": [
    {
     "data": {
      "text/html": [
       "<div>\n",
       "<style scoped>\n",
       "    .dataframe tbody tr th:only-of-type {\n",
       "        vertical-align: middle;\n",
       "    }\n",
       "\n",
       "    .dataframe tbody tr th {\n",
       "        vertical-align: top;\n",
       "    }\n",
       "\n",
       "    .dataframe thead th {\n",
       "        text-align: right;\n",
       "    }\n",
       "</style>\n",
       "<table border=\"1\" class=\"dataframe\">\n",
       "  <thead>\n",
       "    <tr style=\"text-align: right;\">\n",
       "      <th></th>\n",
       "      <th>term</th>\n",
       "      <th>grade</th>\n",
       "      <th>sub_grade</th>\n",
       "      <th>home_ownership</th>\n",
       "      <th>verification_status</th>\n",
       "      <th>issue_d</th>\n",
       "      <th>loan_status</th>\n",
       "      <th>pymnt_plan</th>\n",
       "      <th>url</th>\n",
       "      <th>purpose</th>\n",
       "      <th>zip_code</th>\n",
       "      <th>addr_state</th>\n",
       "      <th>initial_list_status</th>\n",
       "      <th>application_type</th>\n",
       "    </tr>\n",
       "  </thead>\n",
       "  <tbody>\n",
       "    <tr>\n",
       "      <th>0</th>\n",
       "      <td>36 months</td>\n",
       "      <td>B</td>\n",
       "      <td>B2</td>\n",
       "      <td>RENT</td>\n",
       "      <td>Verified</td>\n",
       "      <td>Dec-2011</td>\n",
       "      <td>Fully Paid</td>\n",
       "      <td>n</td>\n",
       "      <td>https://www.lendingclub.com/browse/loanDetail....</td>\n",
       "      <td>credit_card</td>\n",
       "      <td>860xx</td>\n",
       "      <td>AZ</td>\n",
       "      <td>f</td>\n",
       "      <td>INDIVIDUAL</td>\n",
       "    </tr>\n",
       "    <tr>\n",
       "      <th>1</th>\n",
       "      <td>60 months</td>\n",
       "      <td>C</td>\n",
       "      <td>C4</td>\n",
       "      <td>RENT</td>\n",
       "      <td>Source Verified</td>\n",
       "      <td>Dec-2011</td>\n",
       "      <td>Charged Off</td>\n",
       "      <td>n</td>\n",
       "      <td>https://www.lendingclub.com/browse/loanDetail....</td>\n",
       "      <td>car</td>\n",
       "      <td>309xx</td>\n",
       "      <td>GA</td>\n",
       "      <td>f</td>\n",
       "      <td>INDIVIDUAL</td>\n",
       "    </tr>\n",
       "    <tr>\n",
       "      <th>2</th>\n",
       "      <td>36 months</td>\n",
       "      <td>C</td>\n",
       "      <td>C5</td>\n",
       "      <td>RENT</td>\n",
       "      <td>Not Verified</td>\n",
       "      <td>Dec-2011</td>\n",
       "      <td>Fully Paid</td>\n",
       "      <td>n</td>\n",
       "      <td>https://www.lendingclub.com/browse/loanDetail....</td>\n",
       "      <td>small_business</td>\n",
       "      <td>606xx</td>\n",
       "      <td>IL</td>\n",
       "      <td>f</td>\n",
       "      <td>INDIVIDUAL</td>\n",
       "    </tr>\n",
       "    <tr>\n",
       "      <th>3</th>\n",
       "      <td>36 months</td>\n",
       "      <td>C</td>\n",
       "      <td>C1</td>\n",
       "      <td>RENT</td>\n",
       "      <td>Source Verified</td>\n",
       "      <td>Dec-2011</td>\n",
       "      <td>Fully Paid</td>\n",
       "      <td>n</td>\n",
       "      <td>https://www.lendingclub.com/browse/loanDetail....</td>\n",
       "      <td>other</td>\n",
       "      <td>917xx</td>\n",
       "      <td>CA</td>\n",
       "      <td>f</td>\n",
       "      <td>INDIVIDUAL</td>\n",
       "    </tr>\n",
       "    <tr>\n",
       "      <th>5</th>\n",
       "      <td>36 months</td>\n",
       "      <td>A</td>\n",
       "      <td>A4</td>\n",
       "      <td>RENT</td>\n",
       "      <td>Source Verified</td>\n",
       "      <td>Dec-2011</td>\n",
       "      <td>Fully Paid</td>\n",
       "      <td>n</td>\n",
       "      <td>https://www.lendingclub.com/browse/loanDetail....</td>\n",
       "      <td>wedding</td>\n",
       "      <td>852xx</td>\n",
       "      <td>AZ</td>\n",
       "      <td>f</td>\n",
       "      <td>INDIVIDUAL</td>\n",
       "    </tr>\n",
       "  </tbody>\n",
       "</table>\n",
       "</div>"
      ],
      "text/plain": [
       "         term grade sub_grade home_ownership verification_status   issue_d  \\\n",
       "0   36 months     B        B2           RENT            Verified  Dec-2011   \n",
       "1   60 months     C        C4           RENT     Source Verified  Dec-2011   \n",
       "2   36 months     C        C5           RENT        Not Verified  Dec-2011   \n",
       "3   36 months     C        C1           RENT     Source Verified  Dec-2011   \n",
       "5   36 months     A        A4           RENT     Source Verified  Dec-2011   \n",
       "\n",
       "   loan_status pymnt_plan                                                url  \\\n",
       "0   Fully Paid          n  https://www.lendingclub.com/browse/loanDetail....   \n",
       "1  Charged Off          n  https://www.lendingclub.com/browse/loanDetail....   \n",
       "2   Fully Paid          n  https://www.lendingclub.com/browse/loanDetail....   \n",
       "3   Fully Paid          n  https://www.lendingclub.com/browse/loanDetail....   \n",
       "5   Fully Paid          n  https://www.lendingclub.com/browse/loanDetail....   \n",
       "\n",
       "          purpose zip_code addr_state initial_list_status application_type  \n",
       "0     credit_card    860xx         AZ                   f       INDIVIDUAL  \n",
       "1             car    309xx         GA                   f       INDIVIDUAL  \n",
       "2  small_business    606xx         IL                   f       INDIVIDUAL  \n",
       "3           other    917xx         CA                   f       INDIVIDUAL  \n",
       "5         wedding    852xx         AZ                   f       INDIVIDUAL  "
      ]
     },
     "execution_count": 134,
     "metadata": {},
     "output_type": "execute_result"
    }
   ],
   "source": [
    "df_varibales_categoricas.head()"
   ]
  },
  {
   "cell_type": "code",
   "execution_count": 135,
   "id": "71bbd445",
   "metadata": {
    "vscode": {
     "languageId": "ruby"
    }
   },
   "outputs": [
    {
     "data": {
      "text/plain": [
       "application_type\n",
       "INDIVIDUAL    268527\n",
       "JOINT              3\n",
       "Name: count, dtype: int64"
      ]
     },
     "execution_count": 135,
     "metadata": {},
     "output_type": "execute_result"
    }
   ],
   "source": [
    "df_varibales_categoricas[\"application_type\"].value_counts()"
   ]
  },
  {
   "cell_type": "markdown",
   "id": "675a3a3f",
   "metadata": {},
   "source": [
    "se elimina porque practicamente todos los valores son iguales, por lo que no tendrá significancia para el modelo"
   ]
  },
  {
   "cell_type": "code",
   "execution_count": 136,
   "id": "68b88952",
   "metadata": {
    "vscode": {
     "languageId": "ruby"
    }
   },
   "outputs": [],
   "source": [
    "df = df.drop(columns=[\"application_type\"], errors='ignore')"
   ]
  },
  {
   "cell_type": "markdown",
   "id": "30f82b7f",
   "metadata": {},
   "source": [
    "A el resto de columnas categoricas se les aplica one hot encoder para incluirlas en el analisis de significancia de las variables para el modelo"
   ]
  },
  {
   "cell_type": "code",
   "execution_count": 137,
   "id": "e6ce1509",
   "metadata": {
    "vscode": {
     "languageId": "ruby"
    }
   },
   "outputs": [],
   "source": [
    "# Elimina columnas problemáticas\n",
    "cols_to_drop = ['id', 'member_id', 'url', 'desc', 'title', 'zip_code', 'loan_status', 'emp_title']\n",
    "df = df.drop(columns=cols_to_drop, errors='ignore')"
   ]
  },
  {
   "cell_type": "code",
   "execution_count": 138,
   "id": "04842287",
   "metadata": {},
   "outputs": [],
   "source": [
    "# Get categorical columns from df (excluding certain columns we don't want to encode)\n",
    "df_varibales_categoricas = df.select_dtypes(include=['object'])\n",
    "categorical_columns = df_varibales_categoricas.columns\n",
    "categorical_columns = [col for col in categorical_columns]\n",
    "\n",
    "# Apply one-hot encoding\n",
    "df_encoded = pd.get_dummies(df, columns=categorical_columns, drop_first=True)"
   ]
  },
  {
   "cell_type": "code",
   "execution_count": 139,
   "id": "567fb6e2",
   "metadata": {},
   "outputs": [
    {
     "data": {
      "text/html": [
       "<div>\n",
       "<style scoped>\n",
       "    .dataframe tbody tr th:only-of-type {\n",
       "        vertical-align: middle;\n",
       "    }\n",
       "\n",
       "    .dataframe tbody tr th {\n",
       "        vertical-align: top;\n",
       "    }\n",
       "\n",
       "    .dataframe thead th {\n",
       "        text-align: right;\n",
       "    }\n",
       "</style>\n",
       "<table border=\"1\" class=\"dataframe\">\n",
       "  <thead>\n",
       "    <tr style=\"text-align: right;\">\n",
       "      <th></th>\n",
       "      <th>term</th>\n",
       "      <th>grade</th>\n",
       "      <th>sub_grade</th>\n",
       "      <th>home_ownership</th>\n",
       "      <th>verification_status</th>\n",
       "      <th>issue_d</th>\n",
       "      <th>pymnt_plan</th>\n",
       "      <th>purpose</th>\n",
       "      <th>addr_state</th>\n",
       "      <th>initial_list_status</th>\n",
       "    </tr>\n",
       "  </thead>\n",
       "  <tbody>\n",
       "    <tr>\n",
       "      <th>0</th>\n",
       "      <td>36 months</td>\n",
       "      <td>B</td>\n",
       "      <td>B2</td>\n",
       "      <td>RENT</td>\n",
       "      <td>Verified</td>\n",
       "      <td>Dec-2011</td>\n",
       "      <td>n</td>\n",
       "      <td>credit_card</td>\n",
       "      <td>AZ</td>\n",
       "      <td>f</td>\n",
       "    </tr>\n",
       "    <tr>\n",
       "      <th>1</th>\n",
       "      <td>60 months</td>\n",
       "      <td>C</td>\n",
       "      <td>C4</td>\n",
       "      <td>RENT</td>\n",
       "      <td>Source Verified</td>\n",
       "      <td>Dec-2011</td>\n",
       "      <td>n</td>\n",
       "      <td>car</td>\n",
       "      <td>GA</td>\n",
       "      <td>f</td>\n",
       "    </tr>\n",
       "    <tr>\n",
       "      <th>2</th>\n",
       "      <td>36 months</td>\n",
       "      <td>C</td>\n",
       "      <td>C5</td>\n",
       "      <td>RENT</td>\n",
       "      <td>Not Verified</td>\n",
       "      <td>Dec-2011</td>\n",
       "      <td>n</td>\n",
       "      <td>small_business</td>\n",
       "      <td>IL</td>\n",
       "      <td>f</td>\n",
       "    </tr>\n",
       "    <tr>\n",
       "      <th>3</th>\n",
       "      <td>36 months</td>\n",
       "      <td>C</td>\n",
       "      <td>C1</td>\n",
       "      <td>RENT</td>\n",
       "      <td>Source Verified</td>\n",
       "      <td>Dec-2011</td>\n",
       "      <td>n</td>\n",
       "      <td>other</td>\n",
       "      <td>CA</td>\n",
       "      <td>f</td>\n",
       "    </tr>\n",
       "    <tr>\n",
       "      <th>5</th>\n",
       "      <td>36 months</td>\n",
       "      <td>A</td>\n",
       "      <td>A4</td>\n",
       "      <td>RENT</td>\n",
       "      <td>Source Verified</td>\n",
       "      <td>Dec-2011</td>\n",
       "      <td>n</td>\n",
       "      <td>wedding</td>\n",
       "      <td>AZ</td>\n",
       "      <td>f</td>\n",
       "    </tr>\n",
       "    <tr>\n",
       "      <th>...</th>\n",
       "      <td>...</td>\n",
       "      <td>...</td>\n",
       "      <td>...</td>\n",
       "      <td>...</td>\n",
       "      <td>...</td>\n",
       "      <td>...</td>\n",
       "      <td>...</td>\n",
       "      <td>...</td>\n",
       "      <td>...</td>\n",
       "      <td>...</td>\n",
       "    </tr>\n",
       "    <tr>\n",
       "      <th>887351</th>\n",
       "      <td>36 months</td>\n",
       "      <td>D</td>\n",
       "      <td>D2</td>\n",
       "      <td>MORTGAGE</td>\n",
       "      <td>Verified</td>\n",
       "      <td>Jan-2015</td>\n",
       "      <td>n</td>\n",
       "      <td>medical</td>\n",
       "      <td>CO</td>\n",
       "      <td>f</td>\n",
       "    </tr>\n",
       "    <tr>\n",
       "      <th>887364</th>\n",
       "      <td>36 months</td>\n",
       "      <td>A</td>\n",
       "      <td>A1</td>\n",
       "      <td>RENT</td>\n",
       "      <td>Not Verified</td>\n",
       "      <td>Jan-2015</td>\n",
       "      <td>n</td>\n",
       "      <td>debt_consolidation</td>\n",
       "      <td>FL</td>\n",
       "      <td>w</td>\n",
       "    </tr>\n",
       "    <tr>\n",
       "      <th>887366</th>\n",
       "      <td>36 months</td>\n",
       "      <td>D</td>\n",
       "      <td>D3</td>\n",
       "      <td>RENT</td>\n",
       "      <td>Source Verified</td>\n",
       "      <td>Jan-2015</td>\n",
       "      <td>n</td>\n",
       "      <td>debt_consolidation</td>\n",
       "      <td>FL</td>\n",
       "      <td>f</td>\n",
       "    </tr>\n",
       "    <tr>\n",
       "      <th>887369</th>\n",
       "      <td>36 months</td>\n",
       "      <td>B</td>\n",
       "      <td>B1</td>\n",
       "      <td>MORTGAGE</td>\n",
       "      <td>Verified</td>\n",
       "      <td>Jan-2015</td>\n",
       "      <td>n</td>\n",
       "      <td>car</td>\n",
       "      <td>CA</td>\n",
       "      <td>f</td>\n",
       "    </tr>\n",
       "    <tr>\n",
       "      <th>887371</th>\n",
       "      <td>36 months</td>\n",
       "      <td>E</td>\n",
       "      <td>E2</td>\n",
       "      <td>OWN</td>\n",
       "      <td>Verified</td>\n",
       "      <td>Jan-2015</td>\n",
       "      <td>n</td>\n",
       "      <td>debt_consolidation</td>\n",
       "      <td>OH</td>\n",
       "      <td>f</td>\n",
       "    </tr>\n",
       "  </tbody>\n",
       "</table>\n",
       "<p>268530 rows × 10 columns</p>\n",
       "</div>"
      ],
      "text/plain": [
       "              term grade sub_grade home_ownership verification_status  \\\n",
       "0        36 months     B        B2           RENT            Verified   \n",
       "1        60 months     C        C4           RENT     Source Verified   \n",
       "2        36 months     C        C5           RENT        Not Verified   \n",
       "3        36 months     C        C1           RENT     Source Verified   \n",
       "5        36 months     A        A4           RENT     Source Verified   \n",
       "...            ...   ...       ...            ...                 ...   \n",
       "887351   36 months     D        D2       MORTGAGE            Verified   \n",
       "887364   36 months     A        A1           RENT        Not Verified   \n",
       "887366   36 months     D        D3           RENT     Source Verified   \n",
       "887369   36 months     B        B1       MORTGAGE            Verified   \n",
       "887371   36 months     E        E2            OWN            Verified   \n",
       "\n",
       "         issue_d pymnt_plan             purpose addr_state initial_list_status  \n",
       "0       Dec-2011          n         credit_card         AZ                   f  \n",
       "1       Dec-2011          n                 car         GA                   f  \n",
       "2       Dec-2011          n      small_business         IL                   f  \n",
       "3       Dec-2011          n               other         CA                   f  \n",
       "5       Dec-2011          n             wedding         AZ                   f  \n",
       "...          ...        ...                 ...        ...                 ...  \n",
       "887351  Jan-2015          n             medical         CO                   f  \n",
       "887364  Jan-2015          n  debt_consolidation         FL                   w  \n",
       "887366  Jan-2015          n  debt_consolidation         FL                   f  \n",
       "887369  Jan-2015          n                 car         CA                   f  \n",
       "887371  Jan-2015          n  debt_consolidation         OH                   f  \n",
       "\n",
       "[268530 rows x 10 columns]"
      ]
     },
     "execution_count": 139,
     "metadata": {},
     "output_type": "execute_result"
    }
   ],
   "source": [
    "df_varibales_categoricas "
   ]
  },
  {
   "cell_type": "code",
   "execution_count": 140,
   "id": "62b07f8a",
   "metadata": {},
   "outputs": [
    {
     "data": {
      "text/html": [
       "<div>\n",
       "<style scoped>\n",
       "    .dataframe tbody tr th:only-of-type {\n",
       "        vertical-align: middle;\n",
       "    }\n",
       "\n",
       "    .dataframe tbody tr th {\n",
       "        vertical-align: top;\n",
       "    }\n",
       "\n",
       "    .dataframe thead th {\n",
       "        text-align: right;\n",
       "    }\n",
       "</style>\n",
       "<table border=\"1\" class=\"dataframe\">\n",
       "  <thead>\n",
       "    <tr style=\"text-align: right;\">\n",
       "      <th></th>\n",
       "      <th>loan_amnt</th>\n",
       "      <th>funded_amnt</th>\n",
       "      <th>funded_amnt_inv</th>\n",
       "      <th>int_rate</th>\n",
       "      <th>installment</th>\n",
       "      <th>annual_inc</th>\n",
       "      <th>dti</th>\n",
       "      <th>delinq_2yrs</th>\n",
       "      <th>inq_last_6mths</th>\n",
       "      <th>mths_since_last_delinq</th>\n",
       "      <th>...</th>\n",
       "      <th>addr_state_TN</th>\n",
       "      <th>addr_state_TX</th>\n",
       "      <th>addr_state_UT</th>\n",
       "      <th>addr_state_VA</th>\n",
       "      <th>addr_state_VT</th>\n",
       "      <th>addr_state_WA</th>\n",
       "      <th>addr_state_WI</th>\n",
       "      <th>addr_state_WV</th>\n",
       "      <th>addr_state_WY</th>\n",
       "      <th>initial_list_status_w</th>\n",
       "    </tr>\n",
       "  </thead>\n",
       "  <tbody>\n",
       "    <tr>\n",
       "      <th>0</th>\n",
       "      <td>5000.0</td>\n",
       "      <td>5000.0</td>\n",
       "      <td>4975.0</td>\n",
       "      <td>10.65</td>\n",
       "      <td>162.87</td>\n",
       "      <td>24000.0</td>\n",
       "      <td>27.65</td>\n",
       "      <td>0.0</td>\n",
       "      <td>1.0</td>\n",
       "      <td>NaN</td>\n",
       "      <td>...</td>\n",
       "      <td>False</td>\n",
       "      <td>False</td>\n",
       "      <td>False</td>\n",
       "      <td>False</td>\n",
       "      <td>False</td>\n",
       "      <td>False</td>\n",
       "      <td>False</td>\n",
       "      <td>False</td>\n",
       "      <td>False</td>\n",
       "      <td>False</td>\n",
       "    </tr>\n",
       "    <tr>\n",
       "      <th>1</th>\n",
       "      <td>2500.0</td>\n",
       "      <td>2500.0</td>\n",
       "      <td>2500.0</td>\n",
       "      <td>15.27</td>\n",
       "      <td>59.83</td>\n",
       "      <td>30000.0</td>\n",
       "      <td>1.00</td>\n",
       "      <td>0.0</td>\n",
       "      <td>5.0</td>\n",
       "      <td>NaN</td>\n",
       "      <td>...</td>\n",
       "      <td>False</td>\n",
       "      <td>False</td>\n",
       "      <td>False</td>\n",
       "      <td>False</td>\n",
       "      <td>False</td>\n",
       "      <td>False</td>\n",
       "      <td>False</td>\n",
       "      <td>False</td>\n",
       "      <td>False</td>\n",
       "      <td>False</td>\n",
       "    </tr>\n",
       "    <tr>\n",
       "      <th>2</th>\n",
       "      <td>2400.0</td>\n",
       "      <td>2400.0</td>\n",
       "      <td>2400.0</td>\n",
       "      <td>15.96</td>\n",
       "      <td>84.33</td>\n",
       "      <td>12252.0</td>\n",
       "      <td>8.72</td>\n",
       "      <td>0.0</td>\n",
       "      <td>2.0</td>\n",
       "      <td>NaN</td>\n",
       "      <td>...</td>\n",
       "      <td>False</td>\n",
       "      <td>False</td>\n",
       "      <td>False</td>\n",
       "      <td>False</td>\n",
       "      <td>False</td>\n",
       "      <td>False</td>\n",
       "      <td>False</td>\n",
       "      <td>False</td>\n",
       "      <td>False</td>\n",
       "      <td>False</td>\n",
       "    </tr>\n",
       "    <tr>\n",
       "      <th>3</th>\n",
       "      <td>10000.0</td>\n",
       "      <td>10000.0</td>\n",
       "      <td>10000.0</td>\n",
       "      <td>13.49</td>\n",
       "      <td>339.31</td>\n",
       "      <td>49200.0</td>\n",
       "      <td>20.00</td>\n",
       "      <td>0.0</td>\n",
       "      <td>1.0</td>\n",
       "      <td>35.0</td>\n",
       "      <td>...</td>\n",
       "      <td>False</td>\n",
       "      <td>False</td>\n",
       "      <td>False</td>\n",
       "      <td>False</td>\n",
       "      <td>False</td>\n",
       "      <td>False</td>\n",
       "      <td>False</td>\n",
       "      <td>False</td>\n",
       "      <td>False</td>\n",
       "      <td>False</td>\n",
       "    </tr>\n",
       "    <tr>\n",
       "      <th>5</th>\n",
       "      <td>5000.0</td>\n",
       "      <td>5000.0</td>\n",
       "      <td>5000.0</td>\n",
       "      <td>7.90</td>\n",
       "      <td>156.46</td>\n",
       "      <td>36000.0</td>\n",
       "      <td>11.20</td>\n",
       "      <td>0.0</td>\n",
       "      <td>3.0</td>\n",
       "      <td>NaN</td>\n",
       "      <td>...</td>\n",
       "      <td>False</td>\n",
       "      <td>False</td>\n",
       "      <td>False</td>\n",
       "      <td>False</td>\n",
       "      <td>False</td>\n",
       "      <td>False</td>\n",
       "      <td>False</td>\n",
       "      <td>False</td>\n",
       "      <td>False</td>\n",
       "      <td>False</td>\n",
       "    </tr>\n",
       "  </tbody>\n",
       "</table>\n",
       "<p>5 rows × 265 columns</p>\n",
       "</div>"
      ],
      "text/plain": [
       "   loan_amnt  funded_amnt  funded_amnt_inv  int_rate  installment  annual_inc  \\\n",
       "0     5000.0       5000.0           4975.0     10.65       162.87     24000.0   \n",
       "1     2500.0       2500.0           2500.0     15.27        59.83     30000.0   \n",
       "2     2400.0       2400.0           2400.0     15.96        84.33     12252.0   \n",
       "3    10000.0      10000.0          10000.0     13.49       339.31     49200.0   \n",
       "5     5000.0       5000.0           5000.0      7.90       156.46     36000.0   \n",
       "\n",
       "     dti  delinq_2yrs  inq_last_6mths  mths_since_last_delinq  ...  \\\n",
       "0  27.65          0.0             1.0                     NaN  ...   \n",
       "1   1.00          0.0             5.0                     NaN  ...   \n",
       "2   8.72          0.0             2.0                     NaN  ...   \n",
       "3  20.00          0.0             1.0                    35.0  ...   \n",
       "5  11.20          0.0             3.0                     NaN  ...   \n",
       "\n",
       "   addr_state_TN  addr_state_TX  addr_state_UT  addr_state_VA  addr_state_VT  \\\n",
       "0          False          False          False          False          False   \n",
       "1          False          False          False          False          False   \n",
       "2          False          False          False          False          False   \n",
       "3          False          False          False          False          False   \n",
       "5          False          False          False          False          False   \n",
       "\n",
       "   addr_state_WA  addr_state_WI  addr_state_WV  addr_state_WY  \\\n",
       "0          False          False          False          False   \n",
       "1          False          False          False          False   \n",
       "2          False          False          False          False   \n",
       "3          False          False          False          False   \n",
       "5          False          False          False          False   \n",
       "\n",
       "   initial_list_status_w  \n",
       "0                  False  \n",
       "1                  False  \n",
       "2                  False  \n",
       "3                  False  \n",
       "5                  False  \n",
       "\n",
       "[5 rows x 265 columns]"
      ]
     },
     "execution_count": 140,
     "metadata": {},
     "output_type": "execute_result"
    }
   ],
   "source": [
    "df_encoded.head()"
   ]
  },
  {
   "cell_type": "markdown",
   "id": "c7b46b7a",
   "metadata": {},
   "source": [
    "## Imputacion de nulos"
   ]
  },
  {
   "cell_type": "code",
   "execution_count": 141,
   "id": "abebb72e",
   "metadata": {
    "vscode": {
     "languageId": "ruby"
    }
   },
   "outputs": [],
   "source": [
    "# Imputa nulos\n",
    "df = df.fillna(df.median(numeric_only=True))"
   ]
  },
  {
   "cell_type": "code",
   "execution_count": 142,
   "id": "5fd4e9ed",
   "metadata": {
    "vscode": {
     "languageId": "ruby"
    }
   },
   "outputs": [],
   "source": [
    "# Imputa nulos\n",
    "df_encoded = df_encoded.fillna(df_encoded.median(numeric_only=True))"
   ]
  },
  {
   "cell_type": "markdown",
   "id": "c3ade8a4",
   "metadata": {},
   "source": [
    "# Analisis de las variables más significativas"
   ]
  },
  {
   "cell_type": "code",
   "execution_count": 143,
   "id": "46aa58c9",
   "metadata": {
    "vscode": {
     "languageId": "ruby"
    }
   },
   "outputs": [],
   "source": [
    "X = df_encoded.drop(columns=['target'], errors='ignore')\n",
    "y = df['target']"
   ]
  },
  {
   "cell_type": "markdown",
   "id": "2bda0877",
   "metadata": {},
   "source": [
    "## Metodo kbest"
   ]
  },
  {
   "cell_type": "code",
   "execution_count": 144,
   "id": "f4533939",
   "metadata": {},
   "outputs": [
    {
     "name": "stdout",
     "output_type": "stream",
     "text": [
      "Importancia de características:\n",
      "              Feature         Score\n",
      "20    total_rec_prncp  83367.562104\n",
      "25    last_pymnt_amnt  54935.222040\n",
      "23         recoveries  48290.312606\n",
      "18        total_pymnt  46675.895755\n",
      "19    total_pymnt_inv  45848.611281\n",
      "..                ...           ...\n",
      "161  issue_d_Mar-2013      0.011983\n",
      "224     addr_state_IA      0.010454\n",
      "164  issue_d_May-2008      0.001830\n",
      "235     addr_state_MN      0.001272\n",
      "28        policy_code           NaN\n",
      "\n",
      "[264 rows x 2 columns]\n"
     ]
    },
    {
     "name": "stderr",
     "output_type": "stream",
     "text": [
      "c:\\Users\\User\\AppData\\Local\\Programs\\Python\\Python310\\lib\\site-packages\\sklearn\\feature_selection\\_univariate_selection.py:111: UserWarning: Features [28] are constant.\n",
      "  warnings.warn(\"Features %s are constant.\" % constant_features_idx, UserWarning)\n",
      "c:\\Users\\User\\AppData\\Local\\Programs\\Python\\Python310\\lib\\site-packages\\sklearn\\feature_selection\\_univariate_selection.py:112: RuntimeWarning: invalid value encountered in divide\n",
      "  f = msb / msw\n"
     ]
    }
   ],
   "source": [
    "# SelectKBest\n",
    "selector = SelectKBest(f_classif, k=7)\n",
    "selector.fit(X, y)\n",
    "\n",
    "# Obtener scores\n",
    "scores = pd.DataFrame({\n",
    "    'Feature': X.columns,\n",
    "    'Score': selector.scores_\n",
    "})\n",
    "scores = scores.sort_values('Score', ascending=False)\n",
    "\n",
    "print(\"Importancia de características:\")\n",
    "print(scores)"
   ]
  },
  {
   "cell_type": "code",
   "execution_count": 145,
   "id": "382f6ed6",
   "metadata": {},
   "outputs": [
    {
     "data": {
      "text/html": [
       "<div>\n",
       "<style scoped>\n",
       "    .dataframe tbody tr th:only-of-type {\n",
       "        vertical-align: middle;\n",
       "    }\n",
       "\n",
       "    .dataframe tbody tr th {\n",
       "        vertical-align: top;\n",
       "    }\n",
       "\n",
       "    .dataframe thead th {\n",
       "        text-align: right;\n",
       "    }\n",
       "</style>\n",
       "<table border=\"1\" class=\"dataframe\">\n",
       "  <thead>\n",
       "    <tr style=\"text-align: right;\">\n",
       "      <th></th>\n",
       "      <th>Feature</th>\n",
       "      <th>Score</th>\n",
       "    </tr>\n",
       "  </thead>\n",
       "  <tbody>\n",
       "    <tr>\n",
       "      <th>20</th>\n",
       "      <td>total_rec_prncp</td>\n",
       "      <td>83367.562104</td>\n",
       "    </tr>\n",
       "    <tr>\n",
       "      <th>25</th>\n",
       "      <td>last_pymnt_amnt</td>\n",
       "      <td>54935.222040</td>\n",
       "    </tr>\n",
       "    <tr>\n",
       "      <th>23</th>\n",
       "      <td>recoveries</td>\n",
       "      <td>48290.312606</td>\n",
       "    </tr>\n",
       "    <tr>\n",
       "      <th>18</th>\n",
       "      <td>total_pymnt</td>\n",
       "      <td>46675.895755</td>\n",
       "    </tr>\n",
       "    <tr>\n",
       "      <th>19</th>\n",
       "      <td>total_pymnt_inv</td>\n",
       "      <td>45848.611281</td>\n",
       "    </tr>\n",
       "    <tr>\n",
       "      <th>16</th>\n",
       "      <td>out_prncp</td>\n",
       "      <td>37543.371479</td>\n",
       "    </tr>\n",
       "    <tr>\n",
       "      <th>17</th>\n",
       "      <td>out_prncp_inv</td>\n",
       "      <td>37542.785395</td>\n",
       "    </tr>\n",
       "    <tr>\n",
       "      <th>24</th>\n",
       "      <td>collection_recovery_fee</td>\n",
       "      <td>20652.987243</td>\n",
       "    </tr>\n",
       "    <tr>\n",
       "      <th>3</th>\n",
       "      <td>int_rate</td>\n",
       "      <td>18640.769072</td>\n",
       "    </tr>\n",
       "    <tr>\n",
       "      <th>49</th>\n",
       "      <td>term_ 60 months</td>\n",
       "      <td>7765.671379</td>\n",
       "    </tr>\n",
       "  </tbody>\n",
       "</table>\n",
       "</div>"
      ],
      "text/plain": [
       "                    Feature         Score\n",
       "20          total_rec_prncp  83367.562104\n",
       "25          last_pymnt_amnt  54935.222040\n",
       "23               recoveries  48290.312606\n",
       "18              total_pymnt  46675.895755\n",
       "19          total_pymnt_inv  45848.611281\n",
       "16                out_prncp  37543.371479\n",
       "17            out_prncp_inv  37542.785395\n",
       "24  collection_recovery_fee  20652.987243\n",
       "3                  int_rate  18640.769072\n",
       "49          term_ 60 months   7765.671379"
      ]
     },
     "execution_count": 145,
     "metadata": {},
     "output_type": "execute_result"
    }
   ],
   "source": [
    "scores.head(10)"
   ]
  },
  {
   "cell_type": "code",
   "execution_count": 146,
   "id": "61e916c9",
   "metadata": {},
   "outputs": [
    {
     "data": {
      "text/html": [
       "<div>\n",
       "<style scoped>\n",
       "    .dataframe tbody tr th:only-of-type {\n",
       "        vertical-align: middle;\n",
       "    }\n",
       "\n",
       "    .dataframe tbody tr th {\n",
       "        vertical-align: top;\n",
       "    }\n",
       "\n",
       "    .dataframe thead th {\n",
       "        text-align: right;\n",
       "    }\n",
       "</style>\n",
       "<table border=\"1\" class=\"dataframe\">\n",
       "  <thead>\n",
       "    <tr style=\"text-align: right;\">\n",
       "      <th></th>\n",
       "      <th>out_prncp</th>\n",
       "      <th>out_prncp_inv</th>\n",
       "      <th>total_pymnt</th>\n",
       "      <th>total_pymnt_inv</th>\n",
       "      <th>total_rec_prncp</th>\n",
       "      <th>recoveries</th>\n",
       "      <th>last_pymnt_amnt</th>\n",
       "    </tr>\n",
       "  </thead>\n",
       "  <tbody>\n",
       "    <tr>\n",
       "      <th>0</th>\n",
       "      <td>0.0</td>\n",
       "      <td>0.0</td>\n",
       "      <td>5861.071414</td>\n",
       "      <td>5831.78</td>\n",
       "      <td>5000.00</td>\n",
       "      <td>0.00</td>\n",
       "      <td>171.62</td>\n",
       "    </tr>\n",
       "    <tr>\n",
       "      <th>1</th>\n",
       "      <td>0.0</td>\n",
       "      <td>0.0</td>\n",
       "      <td>1008.710000</td>\n",
       "      <td>1008.71</td>\n",
       "      <td>456.46</td>\n",
       "      <td>117.08</td>\n",
       "      <td>119.66</td>\n",
       "    </tr>\n",
       "    <tr>\n",
       "      <th>2</th>\n",
       "      <td>0.0</td>\n",
       "      <td>0.0</td>\n",
       "      <td>3003.653644</td>\n",
       "      <td>3003.65</td>\n",
       "      <td>2400.00</td>\n",
       "      <td>0.00</td>\n",
       "      <td>649.91</td>\n",
       "    </tr>\n",
       "    <tr>\n",
       "      <th>3</th>\n",
       "      <td>0.0</td>\n",
       "      <td>0.0</td>\n",
       "      <td>12226.302212</td>\n",
       "      <td>12226.30</td>\n",
       "      <td>10000.00</td>\n",
       "      <td>0.00</td>\n",
       "      <td>357.48</td>\n",
       "    </tr>\n",
       "    <tr>\n",
       "      <th>5</th>\n",
       "      <td>0.0</td>\n",
       "      <td>0.0</td>\n",
       "      <td>5631.377753</td>\n",
       "      <td>5631.38</td>\n",
       "      <td>5000.00</td>\n",
       "      <td>0.00</td>\n",
       "      <td>161.03</td>\n",
       "    </tr>\n",
       "  </tbody>\n",
       "</table>\n",
       "</div>"
      ],
      "text/plain": [
       "   out_prncp  out_prncp_inv   total_pymnt  total_pymnt_inv  total_rec_prncp  \\\n",
       "0        0.0            0.0   5861.071414          5831.78          5000.00   \n",
       "1        0.0            0.0   1008.710000          1008.71           456.46   \n",
       "2        0.0            0.0   3003.653644          3003.65          2400.00   \n",
       "3        0.0            0.0  12226.302212         12226.30         10000.00   \n",
       "5        0.0            0.0   5631.377753          5631.38          5000.00   \n",
       "\n",
       "   recoveries  last_pymnt_amnt  \n",
       "0        0.00           171.62  \n",
       "1      117.08           119.66  \n",
       "2        0.00           649.91  \n",
       "3        0.00           357.48  \n",
       "5        0.00           161.03  "
      ]
     },
     "execution_count": 146,
     "metadata": {},
     "output_type": "execute_result"
    }
   ],
   "source": [
    "columnas_seleccionadas = selector.get_support()\n",
    "nombres_columnas = X.columns[columnas_seleccionadas]\n",
    "X = X[nombres_columnas]\n",
    "X.head()"
   ]
  },
  {
   "cell_type": "code",
   "execution_count": 147,
   "id": "f0ba924a",
   "metadata": {},
   "outputs": [
    {
     "name": "stdout",
     "output_type": "stream",
     "text": [
      "        out_prncp  out_prncp_inv  total_pymnt  total_pymnt_inv  \\\n",
      "target                                                           \n",
      "0.0        209711         209711       209711           209711   \n",
      "1.0         58819          58819        58819            58819   \n",
      "\n",
      "        total_rec_prncp  recoveries  last_pymnt_amnt  \n",
      "target                                                \n",
      "0.0              209711      209711           209711  \n",
      "1.0               58819       58819            58819  \n"
     ]
    }
   ],
   "source": [
    "print(df_encoded.groupby('target')[nombres_columnas].count())"
   ]
  },
  {
   "cell_type": "markdown",
   "id": "ed5a14ee",
   "metadata": {},
   "source": [
    "lo recomendado es quedarnos con las 7 primeras variables, puesto que a partir de la octava cae considereablemente el score (significancia de la variable), por lo cual, a partir de esta no serian muy explicativas."
   ]
  },
  {
   "cell_type": "markdown",
   "id": "99aa8ac8",
   "metadata": {},
   "source": [
    "## Usar Variables previas al credito"
   ]
  },
  {
   "cell_type": "code",
   "execution_count": 148,
   "id": "c2b2c401",
   "metadata": {},
   "outputs": [
    {
     "name": "stderr",
     "output_type": "stream",
     "text": [
      "c:\\Users\\User\\AppData\\Local\\Programs\\Python\\Python310\\lib\\site-packages\\sklearn\\feature_selection\\_univariate_selection.py:111: UserWarning: Features [16] are constant.\n",
      "  warnings.warn(\"Features %s are constant.\" % constant_features_idx, UserWarning)\n",
      "c:\\Users\\User\\AppData\\Local\\Programs\\Python\\Python310\\lib\\site-packages\\sklearn\\feature_selection\\_univariate_selection.py:112: RuntimeWarning: invalid value encountered in divide\n",
      "  f = msb / msw\n"
     ]
    },
    {
     "name": "stdout",
     "output_type": "stream",
     "text": [
      "Importancia de características (solo previas al crédito):\n",
      "            Feature         Score\n",
      "3          int_rate  18640.769072\n",
      "22  term_ 60 months   7765.671379\n",
      "6               dti   4885.278616\n",
      "26          grade_E   4058.702753\n",
      "23          grade_B   3118.862434\n",
      "25          grade_D   2757.693015\n",
      "14       revol_util   2717.368457\n",
      "27          grade_F   2668.659097\n",
      "1       funded_amnt   1371.005222\n",
      "0         loan_amnt   1360.737717\n"
     ]
    },
    {
     "name": "stderr",
     "output_type": "stream",
     "text": [
      "c:\\Users\\User\\AppData\\Local\\Programs\\Python\\Python310\\lib\\site-packages\\keras\\src\\layers\\core\\dense.py:87: UserWarning: Do not pass an `input_shape`/`input_dim` argument to a layer. When using Sequential models, prefer using an `Input(shape)` object as the first layer in the model instead.\n",
      "  super().__init__(activity_regularizer=activity_regularizer, **kwargs)\n"
     ]
    },
    {
     "name": "stdout",
     "output_type": "stream",
     "text": [
      "Epoch 1/50\n",
      "\u001b[1m672/672\u001b[0m \u001b[32m━━━━━━━━━━━━━━━━━━━━\u001b[0m\u001b[37m\u001b[0m \u001b[1m3s\u001b[0m 3ms/step - accuracy: 0.7719 - auc_6: 0.6316 - loss: 0.5181 - val_accuracy: 0.7814 - val_auc_6: 0.6919 - val_loss: 0.4857\n",
      "Epoch 2/50\n",
      "\u001b[1m672/672\u001b[0m \u001b[32m━━━━━━━━━━━━━━━━━━━━\u001b[0m\u001b[37m\u001b[0m \u001b[1m2s\u001b[0m 3ms/step - accuracy: 0.7816 - auc_6: 0.6739 - loss: 0.4934 - val_accuracy: 0.7814 - val_auc_6: 0.6925 - val_loss: 0.4851\n",
      "Epoch 3/50\n",
      "\u001b[1m672/672\u001b[0m \u001b[32m━━━━━━━━━━━━━━━━━━━━\u001b[0m\u001b[37m\u001b[0m \u001b[1m2s\u001b[0m 3ms/step - accuracy: 0.7802 - auc_6: 0.6807 - loss: 0.4918 - val_accuracy: 0.7814 - val_auc_6: 0.6927 - val_loss: 0.4851\n",
      "Epoch 4/50\n",
      "\u001b[1m672/672\u001b[0m \u001b[32m━━━━━━━━━━━━━━━━━━━━\u001b[0m\u001b[37m\u001b[0m \u001b[1m2s\u001b[0m 2ms/step - accuracy: 0.7824 - auc_6: 0.6814 - loss: 0.4888 - val_accuracy: 0.7814 - val_auc_6: 0.6930 - val_loss: 0.4856\n",
      "Epoch 5/50\n",
      "\u001b[1m672/672\u001b[0m \u001b[32m━━━━━━━━━━━━━━━━━━━━\u001b[0m\u001b[37m\u001b[0m \u001b[1m1s\u001b[0m 2ms/step - accuracy: 0.7817 - auc_6: 0.6809 - loss: 0.4902 - val_accuracy: 0.7813 - val_auc_6: 0.6932 - val_loss: 0.4850\n",
      "Epoch 6/50\n",
      "\u001b[1m672/672\u001b[0m \u001b[32m━━━━━━━━━━━━━━━━━━━━\u001b[0m\u001b[37m\u001b[0m \u001b[1m1s\u001b[0m 2ms/step - accuracy: 0.7807 - auc_6: 0.6831 - loss: 0.4903 - val_accuracy: 0.7820 - val_auc_6: 0.6937 - val_loss: 0.4847\n",
      "Epoch 7/50\n",
      "\u001b[1m672/672\u001b[0m \u001b[32m━━━━━━━━━━━━━━━━━━━━\u001b[0m\u001b[37m\u001b[0m \u001b[1m1s\u001b[0m 2ms/step - accuracy: 0.7837 - auc_6: 0.6818 - loss: 0.4883 - val_accuracy: 0.7815 - val_auc_6: 0.6935 - val_loss: 0.4845\n",
      "Epoch 8/50\n",
      "\u001b[1m672/672\u001b[0m \u001b[32m━━━━━━━━━━━━━━━━━━━━\u001b[0m\u001b[37m\u001b[0m \u001b[1m1s\u001b[0m 2ms/step - accuracy: 0.7812 - auc_6: 0.6860 - loss: 0.4891 - val_accuracy: 0.7814 - val_auc_6: 0.6935 - val_loss: 0.4860\n",
      "Epoch 9/50\n",
      "\u001b[1m672/672\u001b[0m \u001b[32m━━━━━━━━━━━━━━━━━━━━\u001b[0m\u001b[37m\u001b[0m \u001b[1m2s\u001b[0m 2ms/step - accuracy: 0.7817 - auc_6: 0.6870 - loss: 0.4877 - val_accuracy: 0.7816 - val_auc_6: 0.6933 - val_loss: 0.4847\n",
      "Epoch 10/50\n",
      "\u001b[1m672/672\u001b[0m \u001b[32m━━━━━━━━━━━━━━━━━━━━\u001b[0m\u001b[37m\u001b[0m \u001b[1m1s\u001b[0m 2ms/step - accuracy: 0.7812 - auc_6: 0.6893 - loss: 0.4881 - val_accuracy: 0.7815 - val_auc_6: 0.6933 - val_loss: 0.4847\n",
      "Epoch 11/50\n",
      "\u001b[1m672/672\u001b[0m \u001b[32m━━━━━━━━━━━━━━━━━━━━\u001b[0m\u001b[37m\u001b[0m \u001b[1m1s\u001b[0m 2ms/step - accuracy: 0.7817 - auc_6: 0.6871 - loss: 0.4877 - val_accuracy: 0.7815 - val_auc_6: 0.6935 - val_loss: 0.4851\n",
      "Epoch 12/50\n",
      "\u001b[1m672/672\u001b[0m \u001b[32m━━━━━━━━━━━━━━━━━━━━\u001b[0m\u001b[37m\u001b[0m \u001b[1m2s\u001b[0m 2ms/step - accuracy: 0.7807 - auc_6: 0.6876 - loss: 0.4888 - val_accuracy: 0.7815 - val_auc_6: 0.6936 - val_loss: 0.4848\n",
      "\u001b[1m1679/1679\u001b[0m \u001b[32m━━━━━━━━━━━━━━━━━━━━\u001b[0m\u001b[37m\u001b[0m \u001b[1m1s\u001b[0m 614us/step\n",
      "AUC Score (solo previas al crédito): 0.689257821243439\n",
      "              precision    recall  f1-score   support\n",
      "\n",
      "         0.0       0.78      1.00      0.88     41942\n",
      "         1.0       0.66      0.00      0.01     11764\n",
      "\n",
      "    accuracy                           0.78     53706\n",
      "   macro avg       0.72      0.50      0.44     53706\n",
      "weighted avg       0.75      0.78      0.69     53706\n",
      "\n"
     ]
    },
    {
     "data": {
      "image/png": "[encoded data removed]",
      "text/plain": [
       "<Figure size 640x480 with 2 Axes>"
      ]
     },
     "metadata": {},
     "output_type": "display_data"
    }
   ],
   "source": [
    "# --- NUEVO FLUJO: Solo variables previas al crédito y red neuronal ---\n",
    "\n",
    "# 1. Selección de variables previas al crédito\n",
    "# Lista extendida de variables previas al crédito\n",
    "vars_credito = [\n",
    "    # Previas al crédito\n",
    "    'loan_amnt', 'term', 'int_rate', 'installment', 'grade', 'sub_grade',\n",
    "    'home_ownership', 'annual_inc', 'verification_status', 'purpose', 'addr_state',\n",
    "    'dti', 'delinq_2yrs', 'revol_util', 'total_acc', 'application_type', 'open_acc',\n",
    "    'pub_rec', 'revol_bal', 'initial_list_status',\n",
    "    # Comportamiento durante el crédito (NUEVAS)\n",
    "    'last_pymnt_amnt', 'last_pymnt_d', 'total_rec_prncp', 'total_rec_int',\n",
    "    'out_prncp', 'out_prncp_inv', 'recoveries', 'total_pymnt', 'total_pymnt_inv',\n",
    "    'mths_since_last_delinq', 'mths_since_last_record'\n",
    "]\n",
    "\n",
    "# Filtra el DataFrame original para quedarte solo con estas variables + target\n",
    "_df_preloan = df_og[[col for col in pre_loan_vars if col in df_og.columns] + ['loan_status']].copy()\n",
    "_df_preloan['target'] = _df_preloan['loan_status'].map(status_map)\n",
    "_df_preloan = _df_preloan[_df_preloan['target'].notna()].copy()\n",
    "\n",
    "# 2. Preprocesamiento\n",
    "# Elimina columnas con muchos nulos si es necesario\n",
    "_df_preloan = _df_preloan.drop(columns=['emp_length'], errors='ignore')\n",
    "\n",
    "# One-hot encoding para variables categóricas\n",
    "_categorical_columns = _df_preloan.select_dtypes(include=['object']).columns.tolist()\n",
    "_categorical_columns = [col for col in _categorical_columns if col not in ['loan_status']]\n",
    "_df_preloan_encoded = pd.get_dummies(_df_preloan, columns=_categorical_columns, drop_first=True)\n",
    "\n",
    "# Imputa nulos\n",
    "_df_preloan_encoded = _df_preloan_encoded.fillna(_df_preloan_encoded.median(numeric_only=True))\n",
    "\n",
    "# 3. Selección de variables más importantes\n",
    "from sklearn.feature_selection import SelectKBest, f_classif\n",
    "X_preloan = _df_preloan_encoded.drop(columns=['target', 'loan_status'], errors='ignore')\n",
    "y_preloan = _df_preloan_encoded['target']\n",
    "\n",
    "# Selecciona las 7 variables más importantes\n",
    "_selector = SelectKBest(f_classif, k=7)\n",
    "_selector.fit(X_preloan, y_preloan)\n",
    "_scores = pd.DataFrame({'Feature': X_preloan.columns, 'Score': _selector.scores_}).sort_values('Score', ascending=False)\n",
    "print(\"Importancia de características (solo previas al crédito):\")\n",
    "print(_scores.head(10))\n",
    "\n",
    "_selected_columns = X_preloan.columns[_selector.get_support()]\n",
    "X_selected_preloan = X_preloan[_selected_columns]\n",
    "\n",
    "# 4. Split y escalado\n",
    "from sklearn.model_selection import train_test_split\n",
    "from sklearn import preprocessing\n",
    "X_train_preloan, X_test_preloan, y_train_preloan, y_test_preloan = train_test_split(\n",
    "    X_selected_preloan, y_preloan, test_size=0.2, random_state=42, stratify=y_preloan)\n",
    "scaler_preloan = preprocessing.StandardScaler()\n",
    "X_train_preloan_scaled = scaler_preloan.fit_transform(X_train_preloan)\n",
    "X_test_preloan_scaled = scaler_preloan.transform(X_test_preloan)\n",
    "\n",
    "# 5. Red neuronal\n",
    "from tensorflow import keras\n",
    "from tensorflow.keras import layers\n",
    "model_preloan = keras.Sequential([\n",
    "    layers.Dense(64, activation='relu', input_shape=(X_train_preloan_scaled.shape[1],)),\n",
    "    layers.Dropout(0.3),\n",
    "    layers.Dense(32, activation='relu'),\n",
    "    layers.Dropout(0.2),\n",
    "    layers.Dense(16, activation='relu'),\n",
    "    layers.Dropout(0.1),\n",
    "    layers.Dense(1, activation='sigmoid')\n",
    "])\n",
    "model_preloan.compile(\n",
    "    optimizer='adam',\n",
    "    loss='binary_crossentropy',\n",
    "    metrics=['accuracy', keras.metrics.AUC()]\n",
    ")\n",
    "early_stopping_preloan = keras.callbacks.EarlyStopping(\n",
    "    monitor='val_loss',\n",
    "    patience=5,\n",
    "    restore_best_weights=True\n",
    ")\n",
    "history_preloan = model_preloan.fit(\n",
    "    X_train_preloan_scaled, y_train_preloan,\n",
    "    epochs=50,\n",
    "    batch_size=256,\n",
    "    validation_split=0.2,\n",
    "    callbacks=[early_stopping_preloan],\n",
    "    verbose=1\n",
    ")\n",
    "\n",
    "# 6. Evaluación\n",
    "from sklearn.metrics import roc_auc_score, classification_report, confusion_matrix, ConfusionMatrixDisplay\n",
    "import matplotlib.pyplot as plt\n",
    "y_pred_prob_preloan = model_preloan.predict(X_test_preloan_scaled)\n",
    "y_pred_classes_preloan = (y_pred_prob_preloan > 0.5).astype(int)\n",
    "print(\"AUC Score (solo previas al crédito):\", roc_auc_score(y_test_preloan, y_pred_prob_preloan))\n",
    "print(classification_report(y_test_preloan, y_pred_classes_preloan))\n",
    "cm_preloan = confusion_matrix(y_test_preloan, y_pred_classes_preloan)\n",
    "disp_preloan = ConfusionMatrixDisplay(confusion_matrix=cm_preloan)\n",
    "disp_preloan.plot()\n",
    "plt.title('Neural Network Confusion Matrix (solo previas al crédito)')\n",
    "plt.show()\n",
    "\n",
    "# --- FIN NUEVO FLUJO ---"
   ]
  },
  {
   "cell_type": "markdown",
   "id": "a75eff69",
   "metadata": {},
   "source": [
    "no funciona solo con datos antes de que comience el credito lastimosamente por que da muchos falsos positivos en lo que respecta a gente que el modelo dice que si cumplen pero alfinal no van a cumplir nada."
   ]
  },
  {
   "cell_type": "markdown",
   "id": "460477d0",
   "metadata": {},
   "source": [
    "## Variables antes y mientras se da el credito usando un modelo de riesgo dinamico"
   ]
  },
  {
   "cell_type": "markdown",
   "id": "f7254d99",
   "metadata": {},
   "source": [
    "### 1. Selección de variables"
   ]
  },
  {
   "cell_type": "code",
   "execution_count": 149,
   "id": "cd14b2b2",
   "metadata": {},
   "outputs": [],
   "source": [
    "# Variables previas al crédito y de comportamiento\n",
    "vars_credito = [\n",
    "    # Previas al crédito\n",
    "    'loan_amnt', 'term', 'int_rate', 'installment', 'grade', 'sub_grade',\n",
    "    'home_ownership', 'annual_inc', 'verification_status', 'purpose', 'addr_state',\n",
    "    'dti', 'delinq_2yrs', 'revol_util', 'total_acc', 'application_type', 'open_acc',\n",
    "    'pub_rec', 'revol_bal', 'initial_list_status',\n",
    "    # Comportamiento durante el crédito\n",
    "    'last_pymnt_amnt', 'last_pymnt_d', 'total_rec_prncp', 'total_rec_int',\n",
    "    'out_prncp', 'out_prncp_inv', 'recoveries', 'total_pymnt', 'total_pymnt_inv',\n",
    "    'mths_since_last_delinq', 'mths_since_last_record'\n",
    "]"
   ]
  },
  {
   "cell_type": "markdown",
   "id": "e3850f72",
   "metadata": {},
   "source": [
    "### 2. Filtrado del DataFrame"
   ]
  },
  {
   "cell_type": "code",
   "execution_count": 150,
   "id": "4c7db223",
   "metadata": {},
   "outputs": [],
   "source": [
    "# Filtra el DataFrame original para quedarte solo con estas variables + target\n",
    "df_modelo = df_og[[col for col in vars_credito if col in df_og.columns] + ['loan_status']].copy()"
   ]
  },
  {
   "cell_type": "markdown",
   "id": "19a1aaff",
   "metadata": {},
   "source": [
    "### 3. Ingeniería de variables adicionales"
   ]
  },
  {
   "cell_type": "code",
   "execution_count": 152,
   "id": "f22401fe",
   "metadata": {},
   "outputs": [
    {
     "name": "stderr",
     "output_type": "stream",
     "text": [
      "C:\\Users\\User\\AppData\\Local\\Temp\\ipykernel_17256\\4044268522.py:7: UserWarning: Could not infer format, so each element will be parsed individually, falling back to `dateutil`. To ensure parsing is consistent and as-expected, please specify a format.\n",
      "  df_modelo['issue_d'] = pd.to_datetime(df_og['issue_d'], errors='coerce')\n",
      "C:\\Users\\User\\AppData\\Local\\Temp\\ipykernel_17256\\4044268522.py:8: UserWarning: Could not infer format, so each element will be parsed individually, falling back to `dateutil`. To ensure parsing is consistent and as-expected, please specify a format.\n",
      "  df_modelo['last_pymnt_d'] = pd.to_datetime(df_og['last_pymnt_d'], errors='coerce')\n"
     ]
    }
   ],
   "source": [
    "# Porcentaje del principal pagado\n",
    "if 'total_rec_prncp' in df_modelo.columns and 'loan_amnt' in df_modelo.columns:\n",
    "    df_modelo['pct_principal_paid'] = df_modelo['total_rec_prncp'] / df_modelo['loan_amnt']\n",
    "\n",
    "# Porcentaje del plazo pagado (si tienes las fechas)\n",
    "if 'issue_d' in df_og.columns and 'last_pymnt_d' in df_og.columns and 'term' in df_modelo.columns:\n",
    "    df_modelo['issue_d'] = pd.to_datetime(df_og['issue_d'], errors='coerce')\n",
    "    df_modelo['last_pymnt_d'] = pd.to_datetime(df_og['last_pymnt_d'], errors='coerce')\n",
    "    def diff_months(end_date, start_date):\n",
    "        return (end_date.dt.year - start_date.dt.year) * 12 + (end_date.dt.month - start_date.dt.month)\n",
    "    df_modelo['meses_transcurridos'] = diff_months(df_modelo['last_pymnt_d'], df_modelo['issue_d'])\n",
    "    df_modelo['meses_transcurridos'] = df_modelo['meses_transcurridos'].clip(lower=0)\n",
    "    df_modelo['term_meses'] = df_modelo['term'].str.extract('(\\d+)').astype(float)\n",
    "    df_modelo['pct_term_paid'] = df_modelo['meses_transcurridos'] / df_modelo['term_meses']"
   ]
  },
  {
   "cell_type": "markdown",
   "id": "21c7bc4a",
   "metadata": {},
   "source": [
    "### 4. Variable objetivo"
   ]
  },
  {
   "cell_type": "code",
   "execution_count": 153,
   "id": "96a717b6",
   "metadata": {},
   "outputs": [],
   "source": [
    "status_map = {\n",
    "    \"Fully Paid\": 0,\n",
    "    \"Charged Off\": 1,\n",
    "    \"Late (31-120 days)\": 1,\n",
    "    \"Default\": 1,\n",
    "    \"Does not meet the credit policy. Status:Fully Paid\": 0,\n",
    "    \"Does not meet the credit policy. Status:Charged Off\": 1\n",
    "}\n",
    "df_modelo['target'] = df_modelo['loan_status'].map(status_map)\n",
    "df_modelo = df_modelo[df_modelo['target'].notna()].copy()"
   ]
  },
  {
   "cell_type": "markdown",
   "id": "e3d7fbc0",
   "metadata": {},
   "source": [
    "### 5. Preprocesamiento (one-hot, nulos)"
   ]
  },
  {
   "cell_type": "code",
   "execution_count": 154,
   "id": "84b586b4",
   "metadata": {},
   "outputs": [],
   "source": [
    "categorical_vars = df_modelo.select_dtypes(include=['object']).columns.tolist()\n",
    "categorical_vars = [col for col in categorical_vars if col not in ['loan_status']]\n",
    "df_modelo = pd.get_dummies(df_modelo, columns=categorical_vars, drop_first=True)\n",
    "df_modelo = df_modelo.fillna(df_modelo.median(numeric_only=True))"
   ]
  },
  {
   "cell_type": "markdown",
   "id": "83543561",
   "metadata": {},
   "source": [
    "### 6. Selección de variables más importantes"
   ]
  },
  {
   "cell_type": "code",
   "execution_count": 156,
   "id": "b28aa7c6",
   "metadata": {},
   "outputs": [
    {
     "name": "stdout",
     "output_type": "stream",
     "text": [
      "Importancia de características (previas y comportamiento):\n",
      "                Feature         Score\n",
      "21   pct_principal_paid  2.404721e+06\n",
      "12      total_rec_prncp  8.336756e+04\n",
      "11      last_pymnt_amnt  5.493522e+04\n",
      "16           recoveries  4.829031e+04\n",
      "17          total_pymnt  4.667590e+04\n",
      "18      total_pymnt_inv  4.584861e+04\n",
      "14            out_prncp  3.754337e+04\n",
      "15        out_prncp_inv  3.754279e+04\n",
      "1              int_rate  1.864077e+04\n",
      "24        pct_term_paid  1.175500e+04\n",
      "22  meses_transcurridos  7.881914e+03\n",
      "25      term_ 60 months  7.765671e+03\n",
      "23           term_meses  7.765671e+03\n",
      "4                   dti  4.885279e+03\n",
      "29              grade_E  4.058703e+03\n"
     ]
    }
   ],
   "source": [
    "from sklearn.feature_selection import SelectKBest, f_classif\n",
    "import pandas as pd\n",
    "\n",
    "# X e y para el modelo\n",
    "X = df_modelo.drop(columns=['loan_status', 'target'], errors='ignore')\n",
    "y = df_modelo['target']\n",
    "\n",
    "# Elimina columnas de tipo fecha (datetime) antes de SelectKBest y modelado\n",
    "X = X.select_dtypes(exclude=['datetime64[ns]', 'datetime64[ns, UTC]'])\n",
    "\n",
    "# Selección de variables más importantes\n",
    "selector = SelectKBest(f_classif, k=10)  # Puedes ajustar k según prefieras\n",
    "selector.fit(X, y)\n",
    "scores = pd.DataFrame({'Feature': X.columns, 'Score': selector.scores_}).sort_values('Score', ascending=False)\n",
    "print(\"Importancia de características (previas y comportamiento):\")\n",
    "print(scores.head(15))\n",
    "\n",
    "selected_columns = X.columns[selector.get_support()]\n",
    "X_selected = X[selected_columns]"
   ]
  },
  {
   "cell_type": "markdown",
   "id": "77364782",
   "metadata": {},
   "source": [
    "### 7. Split y escalado"
   ]
  },
  {
   "cell_type": "code",
   "execution_count": 157,
   "id": "95878117",
   "metadata": {},
   "outputs": [],
   "source": [
    "from sklearn.model_selection import train_test_split\n",
    "from sklearn.preprocessing import StandardScaler\n",
    "\n",
    "X_train, X_test, y_train, y_test = train_test_split(\n",
    "    X_selected, y, test_size=0.2, random_state=42, stratify=y\n",
    ")\n",
    "scaler = StandardScaler()\n",
    "X_train_scaled = scaler.fit_transform(X_train)\n",
    "X_test_scaled = scaler.transform(X_test)"
   ]
  },
  {
   "cell_type": "markdown",
   "id": "b3891bc2",
   "metadata": {},
   "source": [
    "### 8. Red neuronal"
   ]
  },
  {
   "cell_type": "code",
   "execution_count": 158,
   "id": "5d3d64a8",
   "metadata": {},
   "outputs": [
    {
     "name": "stdout",
     "output_type": "stream",
     "text": [
      "Epoch 1/50\n"
     ]
    },
    {
     "name": "stderr",
     "output_type": "stream",
     "text": [
      "c:\\Users\\User\\AppData\\Local\\Programs\\Python\\Python310\\lib\\site-packages\\keras\\src\\layers\\core\\dense.py:87: UserWarning: Do not pass an `input_shape`/`input_dim` argument to a layer. When using Sequential models, prefer using an `Input(shape)` object as the first layer in the model instead.\n",
      "  super().__init__(activity_regularizer=activity_regularizer, **kwargs)\n"
     ]
    },
    {
     "name": "stdout",
     "output_type": "stream",
     "text": [
      "\u001b[1m672/672\u001b[0m \u001b[32m━━━━━━━━━━━━━━━━━━━━\u001b[0m\u001b[37m\u001b[0m \u001b[1m3s\u001b[0m 2ms/step - accuracy: 0.9445 - auc_7: 0.9684 - loss: 0.1634 - val_accuracy: 0.9942 - val_auc_7: 0.9991 - val_loss: 0.0182\n",
      "Epoch 2/50\n",
      "\u001b[1m672/672\u001b[0m \u001b[32m━━━━━━━━━━━━━━━━━━━━\u001b[0m\u001b[37m\u001b[0m \u001b[1m1s\u001b[0m 2ms/step - accuracy: 0.9941 - auc_7: 0.9982 - loss: 0.0220 - val_accuracy: 0.9960 - val_auc_7: 0.9992 - val_loss: 0.0125\n",
      "Epoch 3/50\n",
      "\u001b[1m672/672\u001b[0m \u001b[32m━━━━━━━━━━━━━━━━━━━━\u001b[0m\u001b[37m\u001b[0m \u001b[1m1s\u001b[0m 2ms/step - accuracy: 0.9961 - auc_7: 0.9986 - loss: 0.0154 - val_accuracy: 0.9980 - val_auc_7: 0.9995 - val_loss: 0.0075\n",
      "Epoch 4/50\n",
      "\u001b[1m672/672\u001b[0m \u001b[32m━━━━━━━━━━━━━━━━━━━━\u001b[0m\u001b[37m\u001b[0m \u001b[1m1s\u001b[0m 2ms/step - accuracy: 0.9973 - auc_7: 0.9990 - loss: 0.0112 - val_accuracy: 0.9984 - val_auc_7: 0.9995 - val_loss: 0.0058\n",
      "Epoch 5/50\n",
      "\u001b[1m672/672\u001b[0m \u001b[32m━━━━━━━━━━━━━━━━━━━━\u001b[0m\u001b[37m\u001b[0m \u001b[1m1s\u001b[0m 2ms/step - accuracy: 0.9977 - auc_7: 0.9991 - loss: 0.0093 - val_accuracy: 0.9986 - val_auc_7: 0.9996 - val_loss: 0.0051\n",
      "Epoch 6/50\n",
      "\u001b[1m672/672\u001b[0m \u001b[32m━━━━━━━━━━━━━━━━━━━━\u001b[0m\u001b[37m\u001b[0m \u001b[1m1s\u001b[0m 2ms/step - accuracy: 0.9980 - auc_7: 0.9993 - loss: 0.0083 - val_accuracy: 0.9986 - val_auc_7: 0.9996 - val_loss: 0.0048\n",
      "Epoch 7/50\n",
      "\u001b[1m672/672\u001b[0m \u001b[32m━━━━━━━━━━━━━━━━━━━━\u001b[0m\u001b[37m\u001b[0m \u001b[1m1s\u001b[0m 2ms/step - accuracy: 0.9982 - auc_7: 0.9992 - loss: 0.0080 - val_accuracy: 0.9987 - val_auc_7: 0.9995 - val_loss: 0.0052\n",
      "Epoch 8/50\n",
      "\u001b[1m672/672\u001b[0m \u001b[32m━━━━━━━━━━━━━━━━━━━━\u001b[0m\u001b[37m\u001b[0m \u001b[1m1s\u001b[0m 2ms/step - accuracy: 0.9983 - auc_7: 0.9993 - loss: 0.0074 - val_accuracy: 0.9987 - val_auc_7: 0.9996 - val_loss: 0.0043\n",
      "Epoch 9/50\n",
      "\u001b[1m672/672\u001b[0m \u001b[32m━━━━━━━━━━━━━━━━━━━━\u001b[0m\u001b[37m\u001b[0m \u001b[1m2s\u001b[0m 2ms/step - accuracy: 0.9983 - auc_7: 0.9993 - loss: 0.0071 - val_accuracy: 0.9988 - val_auc_7: 0.9997 - val_loss: 0.0040\n",
      "Epoch 10/50\n",
      "\u001b[1m672/672\u001b[0m \u001b[32m━━━━━━━━━━━━━━━━━━━━\u001b[0m\u001b[37m\u001b[0m \u001b[1m1s\u001b[0m 2ms/step - accuracy: 0.9982 - auc_7: 0.9995 - loss: 0.0067 - val_accuracy: 0.9988 - val_auc_7: 0.9997 - val_loss: 0.0042\n",
      "Epoch 11/50\n",
      "\u001b[1m672/672\u001b[0m \u001b[32m━━━━━━━━━━━━━━━━━━━━\u001b[0m\u001b[37m\u001b[0m \u001b[1m1s\u001b[0m 2ms/step - accuracy: 0.9983 - auc_7: 0.9994 - loss: 0.0070 - val_accuracy: 0.9989 - val_auc_7: 0.9997 - val_loss: 0.0041\n",
      "Epoch 12/50\n",
      "\u001b[1m672/672\u001b[0m \u001b[32m━━━━━━━━━━━━━━━━━━━━\u001b[0m\u001b[37m\u001b[0m \u001b[1m1s\u001b[0m 2ms/step - accuracy: 0.9983 - auc_7: 0.9993 - loss: 0.0070 - val_accuracy: 0.9991 - val_auc_7: 0.9997 - val_loss: 0.0038\n",
      "Epoch 13/50\n",
      "\u001b[1m672/672\u001b[0m \u001b[32m━━━━━━━━━━━━━━━━━━━━\u001b[0m\u001b[37m\u001b[0m \u001b[1m2s\u001b[0m 2ms/step - accuracy: 0.9985 - auc_7: 0.9994 - loss: 0.0065 - val_accuracy: 0.9989 - val_auc_7: 0.9997 - val_loss: 0.0039\n",
      "Epoch 14/50\n",
      "\u001b[1m672/672\u001b[0m \u001b[32m━━━━━━━━━━━━━━━━━━━━\u001b[0m\u001b[37m\u001b[0m \u001b[1m1s\u001b[0m 2ms/step - accuracy: 0.9985 - auc_7: 0.9995 - loss: 0.0062 - val_accuracy: 0.9990 - val_auc_7: 0.9998 - val_loss: 0.0036\n",
      "Epoch 15/50\n",
      "\u001b[1m672/672\u001b[0m \u001b[32m━━━━━━━━━━━━━━━━━━━━\u001b[0m\u001b[37m\u001b[0m \u001b[1m1s\u001b[0m 2ms/step - accuracy: 0.9984 - auc_7: 0.9992 - loss: 0.0072 - val_accuracy: 0.9989 - val_auc_7: 0.9997 - val_loss: 0.0037\n",
      "Epoch 16/50\n",
      "\u001b[1m672/672\u001b[0m \u001b[32m━━━━━━━━━━━━━━━━━━━━\u001b[0m\u001b[37m\u001b[0m \u001b[1m1s\u001b[0m 2ms/step - accuracy: 0.9983 - auc_7: 0.9996 - loss: 0.0064 - val_accuracy: 0.9988 - val_auc_7: 0.9997 - val_loss: 0.0041\n",
      "Epoch 17/50\n",
      "\u001b[1m672/672\u001b[0m \u001b[32m━━━━━━━━━━━━━━━━━━━━\u001b[0m\u001b[37m\u001b[0m \u001b[1m1s\u001b[0m 2ms/step - accuracy: 0.9983 - auc_7: 0.9993 - loss: 0.0066 - val_accuracy: 0.9989 - val_auc_7: 0.9997 - val_loss: 0.0035\n",
      "Epoch 18/50\n",
      "\u001b[1m672/672\u001b[0m \u001b[32m━━━━━━━━━━━━━━━━━━━━\u001b[0m\u001b[37m\u001b[0m \u001b[1m1s\u001b[0m 2ms/step - accuracy: 0.9984 - auc_7: 0.9993 - loss: 0.0066 - val_accuracy: 0.9990 - val_auc_7: 0.9997 - val_loss: 0.0037\n",
      "Epoch 19/50\n",
      "\u001b[1m672/672\u001b[0m \u001b[32m━━━━━━━━━━━━━━━━━━━━\u001b[0m\u001b[37m\u001b[0m \u001b[1m1s\u001b[0m 2ms/step - accuracy: 0.9984 - auc_7: 0.9995 - loss: 0.0060 - val_accuracy: 0.9990 - val_auc_7: 0.9998 - val_loss: 0.0036\n",
      "Epoch 20/50\n",
      "\u001b[1m672/672\u001b[0m \u001b[32m━━━━━━━━━━━━━━━━━━━━\u001b[0m\u001b[37m\u001b[0m \u001b[1m1s\u001b[0m 2ms/step - accuracy: 0.9986 - auc_7: 0.9995 - loss: 0.0059 - val_accuracy: 0.9990 - val_auc_7: 0.9997 - val_loss: 0.0035\n",
      "Epoch 21/50\n",
      "\u001b[1m672/672\u001b[0m \u001b[32m━━━━━━━━━━━━━━━━━━━━\u001b[0m\u001b[37m\u001b[0m \u001b[1m1s\u001b[0m 2ms/step - accuracy: 0.9985 - auc_7: 0.9995 - loss: 0.0060 - val_accuracy: 0.9990 - val_auc_7: 0.9998 - val_loss: 0.0033\n",
      "Epoch 22/50\n",
      "\u001b[1m672/672\u001b[0m \u001b[32m━━━━━━━━━━━━━━━━━━━━\u001b[0m\u001b[37m\u001b[0m \u001b[1m1s\u001b[0m 2ms/step - accuracy: 0.9985 - auc_7: 0.9996 - loss: 0.0056 - val_accuracy: 0.9989 - val_auc_7: 0.9997 - val_loss: 0.0034\n",
      "Epoch 23/50\n",
      "\u001b[1m672/672\u001b[0m \u001b[32m━━━━━━━━━━━━━━━━━━━━\u001b[0m\u001b[37m\u001b[0m \u001b[1m1s\u001b[0m 2ms/step - accuracy: 0.9984 - auc_7: 0.9996 - loss: 0.0060 - val_accuracy: 0.9990 - val_auc_7: 0.9997 - val_loss: 0.0032\n",
      "Epoch 24/50\n",
      "\u001b[1m672/672\u001b[0m \u001b[32m━━━━━━━━━━━━━━━━━━━━\u001b[0m\u001b[37m\u001b[0m \u001b[1m1s\u001b[0m 2ms/step - accuracy: 0.9984 - auc_7: 0.9993 - loss: 0.0067 - val_accuracy: 0.9991 - val_auc_7: 0.9998 - val_loss: 0.0032\n",
      "Epoch 25/50\n",
      "\u001b[1m672/672\u001b[0m \u001b[32m━━━━━━━━━━━━━━━━━━━━\u001b[0m\u001b[37m\u001b[0m \u001b[1m1s\u001b[0m 2ms/step - accuracy: 0.9986 - auc_7: 0.9995 - loss: 0.0058 - val_accuracy: 0.9991 - val_auc_7: 0.9997 - val_loss: 0.0033\n",
      "Epoch 26/50\n",
      "\u001b[1m672/672\u001b[0m \u001b[32m━━━━━━━━━━━━━━━━━━━━\u001b[0m\u001b[37m\u001b[0m \u001b[1m1s\u001b[0m 2ms/step - accuracy: 0.9985 - auc_7: 0.9996 - loss: 0.0057 - val_accuracy: 0.9990 - val_auc_7: 0.9998 - val_loss: 0.0033\n",
      "Epoch 27/50\n",
      "\u001b[1m672/672\u001b[0m \u001b[32m━━━━━━━━━━━━━━━━━━━━\u001b[0m\u001b[37m\u001b[0m \u001b[1m1s\u001b[0m 2ms/step - accuracy: 0.9985 - auc_7: 0.9996 - loss: 0.0060 - val_accuracy: 0.9991 - val_auc_7: 0.9997 - val_loss: 0.0033\n",
      "Epoch 28/50\n",
      "\u001b[1m672/672\u001b[0m \u001b[32m━━━━━━━━━━━━━━━━━━━━\u001b[0m\u001b[37m\u001b[0m \u001b[1m1s\u001b[0m 2ms/step - accuracy: 0.9987 - auc_7: 0.9997 - loss: 0.0048 - val_accuracy: 0.9989 - val_auc_7: 0.9998 - val_loss: 0.0039\n"
     ]
    }
   ],
   "source": [
    "from tensorflow import keras\n",
    "from tensorflow.keras import layers\n",
    "\n",
    "model = keras.Sequential([\n",
    "    layers.Dense(64, activation='relu', input_shape=(X_train_scaled.shape[1],)),\n",
    "    layers.Dropout(0.3),\n",
    "    layers.Dense(32, activation='relu'),\n",
    "    layers.Dropout(0.2),\n",
    "    layers.Dense(16, activation='relu'),\n",
    "    layers.Dropout(0.1),\n",
    "    layers.Dense(1, activation='sigmoid')\n",
    "])\n",
    "model.compile(\n",
    "    optimizer='adam',\n",
    "    loss='binary_crossentropy',\n",
    "    metrics=['accuracy', keras.metrics.AUC()]\n",
    ")\n",
    "early_stopping = keras.callbacks.EarlyStopping(\n",
    "    monitor='val_loss',\n",
    "    patience=5,\n",
    "    restore_best_weights=True\n",
    ")\n",
    "history = model.fit(\n",
    "    X_train_scaled, y_train,\n",
    "    epochs=50,\n",
    "    batch_size=256,\n",
    "    validation_split=0.2,\n",
    "    callbacks=[early_stopping],\n",
    "    verbose=1\n",
    ")"
   ]
  },
  {
   "cell_type": "markdown",
   "id": "4ab6ac52",
   "metadata": {},
   "source": [
    "### 9. Evaluación"
   ]
  },
  {
   "cell_type": "code",
   "execution_count": 159,
   "id": "d334266c",
   "metadata": {},
   "outputs": [
    {
     "name": "stdout",
     "output_type": "stream",
     "text": [
      "\u001b[1m1679/1679\u001b[0m \u001b[32m━━━━━━━━━━━━━━━━━━━━\u001b[0m\u001b[37m\u001b[0m \u001b[1m1s\u001b[0m 606us/step\n",
      "AUC Score (previas y comportamiento): 0.9997672969671966\n",
      "              precision    recall  f1-score   support\n",
      "\n",
      "         0.0       1.00      1.00      1.00     41942\n",
      "         1.0       1.00      1.00      1.00     11764\n",
      "\n",
      "    accuracy                           1.00     53706\n",
      "   macro avg       1.00      1.00      1.00     53706\n",
      "weighted avg       1.00      1.00      1.00     53706\n",
      "\n"
     ]
    },
    {
     "data": {
      "image/png": "[encoded data removed]",
      "text/plain": [
       "<Figure size 640x480 with 2 Axes>"
      ]
     },
     "metadata": {},
     "output_type": "display_data"
    }
   ],
   "source": [
    "from sklearn.metrics import roc_auc_score, classification_report, confusion_matrix, ConfusionMatrixDisplay\n",
    "import matplotlib.pyplot as plt\n",
    "\n",
    "y_pred_prob = model.predict(X_test_scaled)\n",
    "y_pred_classes = (y_pred_prob > 0.5).astype(int)\n",
    "print(\"AUC Score (previas y comportamiento):\", roc_auc_score(y_test, y_pred_prob))\n",
    "print(classification_report(y_test, y_pred_classes))\n",
    "cm = confusion_matrix(y_test, y_pred_classes)\n",
    "disp = ConfusionMatrixDisplay(confusion_matrix=cm)\n",
    "disp.plot()\n",
    "plt.title('Neural Network Confusion Matrix (previas y comportamiento)')\n",
    "plt.show()"
   ]
  }
 ],
 "metadata": {
  "kernelspec": {
   "display_name": "Python 3",
   "language": "python",
   "name": "python3"
  },
  "language_info": {
   "codemirror_mode": {
    "name": "ipython",
    "version": 3
   },
   "file_extension": ".py",
   "mimetype": "text/x-python",
   "name": "python",
   "nbconvert_exporter": "python",
   "pygments_lexer": "ipython3",
   "version": "3.10.6"
  }
 },
 "nbformat": 4,
 "nbformat_minor": 5
}
